{
 "cells": [
  {
   "cell_type": "code",
   "execution_count": null,
   "id": "9019efd1",
   "metadata": {
    "ExecuteTime": {
     "end_time": "2021-04-15T21:12:20.920786Z",
     "start_time": "2021-04-15T21:12:20.289022Z"
    }
   },
   "outputs": [],
   "source": [
    "import numpy as np\n",
    "import matplotlib.pyplot as plt\n",
    "\n",
    "import sklearn.manifold as skmanifold"
   ]
  },
  {
   "cell_type": "code",
   "execution_count": null,
   "id": "2c8a99dc",
   "metadata": {
    "ExecuteTime": {
     "end_time": "2021-04-15T21:12:20.965273Z",
     "start_time": "2021-04-15T21:12:20.922593Z"
    }
   },
   "outputs": [],
   "source": [
    "# Load the datasets and print headers\n",
    "catalog512 = np.load('../data/physCatalog512.npy')\n",
    "catalog1024 = np.load('../data/physCatalog1024.npy')\n",
    "catalog2048 = np.load('../data/physCatalog2048.npy')\n",
    "\n",
    "print(catalog512.dtype)"
   ]
  },
  {
   "cell_type": "code",
   "execution_count": null,
   "id": "85a5e9e3",
   "metadata": {
    "ExecuteTime": {
     "end_time": "2021-04-15T21:12:21.240661Z",
     "start_time": "2021-04-15T21:12:20.967572Z"
    }
   },
   "outputs": [],
   "source": [
    "# Convert to arrays with mass, volume, radial distance, and magnitude of velocity\n",
    "structureFormat = ([('ID',         np.int64),\n",
    "                    ('volume',     np.float64),\n",
    "                    ('mass',       np.float64),\n",
    "                    ('rPosition',  np.float64),\n",
    "                    ('vMag',       np.float64),\n",
    "                    ('resolution', np.int64),\n",
    "                    ('time',       np.int64)])\n",
    "\n",
    "\n",
    "\n",
    "processed512 = np.array(np.hstack((catalog512['ID'], \n",
    "                         catalog512['volume'],\n",
    "                         catalog512['mass'],\n",
    "                         np.sqrt(catalog512['positionX']**2 + catalog512['positionY']**2 + catalog512['positionZ']**2),\n",
    "                         np.sqrt(catalog512['velocityX']**2 + catalog512['velocityY']**2 + catalog512['velocityZ']**2),\n",
    "                         catalog512['resolution'],\n",
    "                         catalog512['time'],)), \n",
    "                        dtype=structureFormat)\n",
    "processed1024 = np.array(np.hstack((catalog1024['ID'], \n",
    "                         catalog1024['volume'],\n",
    "                         catalog1024['mass'],\n",
    "                         np.sqrt(catalog1024['positionX']**2 + catalog1024['positionY']**2 + catalog1024['positionZ']**2),\n",
    "                         np.sqrt(catalog1024['velocityX']**2 + catalog1024['velocityY']**2 + catalog1024['velocityZ']**2),\n",
    "                         catalog1024['resolution'],\n",
    "                         catalog1024['time'],)), \n",
    "                        dtype=structureFormat)\n",
    "processed2048 = np.array(np.hstack((catalog2048['ID'], \n",
    "                         catalog2048['volume'],\n",
    "                         catalog2048['mass'],\n",
    "                         np.sqrt(catalog2048['positionX']**2 + catalog2048['positionY']**2 + catalog2048['positionZ']**2),\n",
    "                         np.sqrt(catalog2048['velocityX']**2 + catalog2048['velocityY']**2 + catalog2048['velocityZ']**2),\n",
    "                         catalog2048['resolution'],\n",
    "                         catalog2048['time'],)), \n",
    "                        dtype=structureFormat)"
   ]
  },
  {
   "cell_type": "code",
   "execution_count": null,
   "id": "aec99c4f",
   "metadata": {
    "ExecuteTime": {
     "end_time": "2021-04-15T21:12:21.245120Z",
     "start_time": "2021-04-15T21:12:21.242480Z"
    }
   },
   "outputs": [],
   "source": [
    "# def testAndPlot(catalog):\n",
    "\n",
    "#     from collections import OrderedDict\n",
    "#     from functools import partial\n",
    "#     from time import time\n",
    "\n",
    "#     import matplotlib.pyplot as plt\n",
    "#     from mpl_toolkits.mplot3d import Axes3D\n",
    "#     from matplotlib.ticker import NullFormatter\n",
    "\n",
    "#     # Next line to silence pyflakes. This import is needed.\n",
    "#     Axes3D\n",
    "\n",
    "#     n_points = 1000\n",
    "#     # X, color = datasets.make_s_curve(n_points, random_state=0)\n",
    "#     n_neighbors = 10\n",
    "#     n_components = 2\n",
    "\n",
    "#     # Create figure\n",
    "#     fig = plt.figure(figsize=(15, 8))\n",
    "#     fig.suptitle(\"Manifold Learning with %i points, %i neighbors\"\n",
    "#                  % (1000, n_neighbors), fontsize=14)\n",
    "\n",
    "#     # Add 3d scatter plot\n",
    "#     ax = fig.add_subplot(251, projection='3d')\n",
    "#     ax.scatter(catalog['mass'], catalog['volume'], catalog['rPosition'], catalog['vMag'], cmap=plt.cm.Spectral)\n",
    "#     ax.view_init(4, -72)\n",
    "\n",
    "#     # Set-up manifold methods\n",
    "#     LLE = partial(manifold.LocallyLinearEmbedding,\n",
    "#                   n_neighbors, n_components, eigen_solver='auto')\n",
    "\n",
    "#     methods = OrderedDict()\n",
    "#     methods['LLE'] = LLE(method='standard')\n",
    "#     methods['LTSA'] = LLE(method='ltsa')\n",
    "#     methods['Hessian LLE'] = LLE(method='hessian')\n",
    "#     methods['Modified LLE'] = LLE(method='modified')\n",
    "#     methods['Isomap'] = manifold.Isomap(n_neighbors, n_components)\n",
    "#     methods['MDS'] = manifold.MDS(n_components, max_iter=100, n_init=1)\n",
    "#     methods['SE'] = manifold.SpectralEmbedding(n_components=n_components,\n",
    "#                                                n_neighbors=n_neighbors)\n",
    "#     methods['t-SNE'] = manifold.TSNE(n_components=n_components, init='pca',\n",
    "#                                      random_state=0)\n",
    "\n",
    "#     # Plot results\n",
    "#     for i, (label, method) in enumerate(methods.items()):\n",
    "#         t0 = time()\n",
    "#         Y = method.fit_transform(np.rot90(np.vstack((catalog['mass'], catalog['volume'], catalog['rPosition'], catalog['vMag']))))\n",
    "#         t1 = time()\n",
    "#         print(\"%s: %.2g sec\" % (label, t1 - t0))\n",
    "#         ax = fig.add_subplot(2, 5, 2 + i + (i > 3))\n",
    "#         ax.scatter(Y[:, 0], Y[:, 1], c=color, cmap=plt.cm.Spectral)\n",
    "#         ax.set_title(\"%s (%.2g sec)\" % (label, t1 - t0))\n",
    "#         ax.xaxis.set_major_formatter(NullFormatter())\n",
    "#         ax.yaxis.set_major_formatter(NullFormatter())\n",
    "#         ax.axis('tight')\n",
    "\n",
    "#     plt.show()"
   ]
  },
  {
   "cell_type": "code",
   "execution_count": null,
   "id": "d382d845",
   "metadata": {
    "ExecuteTime": {
     "end_time": "2021-04-15T21:12:21.249015Z",
     "start_time": "2021-04-15T21:12:21.246923Z"
    }
   },
   "outputs": [],
   "source": [
    "# testAndPlot(processed512) "
   ]
  },
  {
   "cell_type": "code",
   "execution_count": null,
   "id": "55c9d9ba",
   "metadata": {
    "ExecuteTime": {
     "start_time": "2021-04-15T21:22:26.261Z"
    }
   },
   "outputs": [],
   "source": [
    "# Run t-SNE\n",
    "# perplexity should be between 5 and 50, analogous to number of neareset neighbors\n",
    "perp = 5\n",
    "\n",
    "catalog = np.rot90(np.vstack((processed512['mass'], processed512['volume'], processed512['rPosition'], processed512['vMag'])))\n",
    "\n",
    "result = skmanifold.TSNE(n_components=4, perplexity=perp, n_jobs=-1, method='exact').fit_transform(catalog)\n",
    "\n",
    "plt.scatter(catalog[:, 0], catalog[:, 1], cmap=plt.cm.Spectral)\n",
    "plt.show()"
   ]
  },
  {
   "cell_type": "code",
   "execution_count": null,
   "id": "b5f70dd5",
   "metadata": {},
   "outputs": [],
   "source": []
  }
 ],
 "metadata": {
  "kernelspec": {
   "display_name": "Python 3",
   "language": "python",
   "name": "python3"
  },
  "language_info": {
   "codemirror_mode": {
    "name": "ipython",
    "version": 3
   },
   "file_extension": ".py",
   "mimetype": "text/x-python",
   "name": "python",
   "nbconvert_exporter": "python",
   "pygments_lexer": "ipython3",
   "version": "3.8.8"
  }
 },
 "nbformat": 4,
 "nbformat_minor": 5
}
