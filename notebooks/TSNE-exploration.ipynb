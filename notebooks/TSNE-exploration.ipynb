{
 "cells": [
  {
   "cell_type": "code",
   "execution_count": null,
   "id": "9019efd1",
   "metadata": {
    "ExecuteTime": {
     "end_time": "2021-04-19T17:03:01.045938Z",
     "start_time": "2021-04-19T17:03:00.518604Z"
    }
   },
   "outputs": [],
   "source": [
    "import numpy as np\n",
    "import pandas as pd\n",
    "import matplotlib.pyplot as plt\n",
    "import seaborn as sns\n",
    "\n",
    "import sklearn.manifold as skmanifold\n",
    "import sklearn"
   ]
  },
  {
   "cell_type": "code",
   "execution_count": null,
   "id": "2c8a99dc",
   "metadata": {
    "ExecuteTime": {
     "end_time": "2021-04-19T17:03:01.089942Z",
     "start_time": "2021-04-19T17:03:01.047601Z"
    }
   },
   "outputs": [],
   "source": [
    "# Load the datasets and print headers\n",
    "catalog512 = np.load('../data/physCatalog512.npy')\n",
    "catalog1024 = np.load('../data/physCatalog1024.npy')\n",
    "catalog2048 = np.load('../data/physCatalog2048.npy')"
   ]
  },
  {
   "cell_type": "code",
   "execution_count": null,
   "id": "85a5e9e3",
   "metadata": {
    "ExecuteTime": {
     "end_time": "2021-04-19T17:17:03.241174Z",
     "start_time": "2021-04-19T17:17:03.043593Z"
    }
   },
   "outputs": [],
   "source": [
    "# Convert to dataframes with mass, volume, radial distance, and magnitude of velocity\n",
    "\n",
    "# ==============================================================================\n",
    "def converter(catalog):\n",
    "    # Copy data to the dataFrame\n",
    "    outputDF = pd.DataFrame()\n",
    "    \n",
    "    outputDF['ID']         = catalog['ID']\n",
    "    outputDF['volume']     = catalog['volume']\n",
    "    outputDF['mass']       = catalog['mass']\n",
    "    outputDF['logMass']    = np.log10(catalog['mass'])\n",
    "    outputDF['rPosition']  = np.sqrt(catalog['positionX']**2 \n",
    "                                     + catalog['positionY']**2 \n",
    "                                     + catalog['positionZ']**2)\n",
    "    outputDF['logRPosition'] = np.log10(outputDF['rPosition'])\n",
    "    outputDF['zPosition']  = catalog['positionZ'].reshape(-1, 1)\n",
    "    outputDF['vMag']       = np.sqrt(catalog['velocityX']**2 \n",
    "                                     + catalog['velocityY']**2 \n",
    "                                     + catalog['velocityZ']**2)\n",
    "    outputDF['polarAngle'] = np.arccos(np.abs(outputDF['zPosition'])/outputDF['rPosition'])\n",
    "    outputDF['resolution'] = catalog['resolution']\n",
    "    outputDF['time']       = catalog['time']\n",
    "\n",
    "    return outputDF\n",
    "# ==============================================================================\n",
    "\n",
    "processed512  = converter(catalog512)\n",
    "processed1024 = converter(catalog1024)\n",
    "processed2048 = converter(catalog2048)"
   ]
  },
  {
   "cell_type": "code",
   "execution_count": null,
   "id": "af466b7a",
   "metadata": {
    "ExecuteTime": {
     "end_time": "2021-04-19T17:03:01.333318Z",
     "start_time": "2021-04-19T17:03:01.321881Z"
    }
   },
   "outputs": [],
   "source": [
    "# ==============================================================================\n",
    "def chooseSubset(catalog, lowLim):\n",
    "    # Cut out the low mass clouds that are poorly sampled\n",
    "    catalog = catalog[catalog['mass'] > lowLim]\n",
    "\n",
    "    # Cut the data set down to a reasonable number of entries for testing\n",
    "    maxNumRows = 20000\n",
    "\n",
    "    if maxNumRows > catalog.shape[0]:\n",
    "        maxNumRows = catalog.shape[0]\n",
    "    print(f'{maxNumRows = }')\n",
    "\n",
    "    return catalog.sample(n=maxNumRows, replace=False)\n",
    "# ==============================================================================\n",
    "\n",
    "# Set low logMass limits for clouds\n",
    "lowLim512  = 8.  # Still tbd\n",
    "lowLim1024 = 4.  # Still tbd\n",
    "lowLim2048 = 1.\n",
    "\n",
    "# Now call the function with the chosen catalog\n",
    "catalogSubset = chooseSubset(processed512, lowLim512)"
   ]
  },
  {
   "cell_type": "code",
   "execution_count": null,
   "id": "55c9d9ba",
   "metadata": {
    "ExecuteTime": {
     "end_time": "2021-04-19T17:04:57.618092Z",
     "start_time": "2021-04-19T17:03:01.336394Z"
    }
   },
   "outputs": [],
   "source": [
    "# Run t-SNE\n",
    "# perplexity should be between 5 and 50, analogous to number of neareset neighbors\n",
    "perp = 100\n",
    "\n",
    "featureColumns = ['logRPosition','vMag', 'polarAngle', 'logMass', 'time']\n",
    "catalogSubsetData = catalogSubset[featureColumns].values\n",
    "\n",
    "# Rescale data\n",
    "scaler = sklearn.preprocessing.StandardScaler(with_mean=True, with_std=True)\n",
    "catalogSubsetData = scaler.fit_transform(catalogSubsetData)\n",
    "\n",
    "tsneModel   = skmanifold.TSNE(n_components=2, perplexity=perp, init='pca')\n",
    "tsneResults = tsneModel.fit_transform(catalogSubsetData)"
   ]
  },
  {
   "cell_type": "code",
   "execution_count": null,
   "id": "9863de99",
   "metadata": {
    "ExecuteTime": {
     "end_time": "2021-04-19T17:04:57.624314Z",
     "start_time": "2021-04-19T17:04:57.620253Z"
    }
   },
   "outputs": [],
   "source": [
    "# Add the new columns to catalogSubset\n",
    "catalogSubset['tsne-0'] = tsneResults[:,0]\n",
    "catalogSubset['tsne-1'] = tsneResults[:,1]"
   ]
  },
  {
   "cell_type": "code",
   "execution_count": null,
   "id": "320b6988",
   "metadata": {
    "ExecuteTime": {
     "end_time": "2021-04-19T17:05:11.742218Z",
     "start_time": "2021-04-19T17:04:57.626806Z"
    },
    "scrolled": false
   },
   "outputs": [],
   "source": [
    "resolution = catalogSubset['resolution'].iloc[1]\n",
    "\n",
    "# pathRoot = '/Users/Bob/Desktop/ASTR-3705-Class-Project/figures/tSNE/'\n",
    "pathRoot = '/Users/Bob/Desktop/'\n",
    "figureFormat = '.pdf'\n",
    "\n",
    "for feat in featureColumns:\n",
    "    plt.figure(figsize=(16,10))\n",
    "    sns.scatterplot(\n",
    "        x='tsne-0', \n",
    "        y='tsne-1',\n",
    "        hue=feat,\n",
    "        palette='flare',\n",
    "        data=catalogSubset,\n",
    "        alpha=1.\n",
    "    )\n",
    "\n",
    "    plt.title(f't-SNE for resolution={resolution}, perplexity={perp}, features={[feat for feat in featureColumns]}')\n",
    "\n",
    "    filename = f'r{resolution}-p{perp}-{feat}'\n",
    "    plt.savefig(pathRoot + filename + figureFormat)\n",
    "\n",
    "    plt.show()"
   ]
  },
  {
   "cell_type": "code",
   "execution_count": null,
   "id": "6b21a062",
   "metadata": {},
   "outputs": [],
   "source": []
  }
 ],
 "metadata": {
  "kernelspec": {
   "display_name": "Python 3",
   "language": "python",
   "name": "python3"
  },
  "language_info": {
   "codemirror_mode": {
    "name": "ipython",
    "version": 3
   },
   "file_extension": ".py",
   "mimetype": "text/x-python",
   "name": "python",
   "nbconvert_exporter": "python",
   "pygments_lexer": "ipython3",
   "version": "3.8.8"
  }
 },
 "nbformat": 4,
 "nbformat_minor": 5
}
