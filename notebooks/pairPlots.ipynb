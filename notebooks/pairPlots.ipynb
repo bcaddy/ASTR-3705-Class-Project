{
 "cells": [
  {
   "cell_type": "code",
   "execution_count": 1,
   "id": "c0160d17",
   "metadata": {
    "ExecuteTime": {
     "end_time": "2021-04-29T15:39:56.871292Z",
     "start_time": "2021-04-29T15:39:56.475310Z"
    },
    "scrolled": false
   },
   "outputs": [],
   "source": [
    "import pandas as pd\n",
    "import numpy as np\n",
    "\n",
    "import matplotlib.pyplot as plt\n",
    "import seaborn as sns\n",
    "\n",
    "from joblib import Parallel, delayed"
   ]
  },
  {
   "cell_type": "markdown",
   "id": "0ec9268d",
   "metadata": {},
   "source": [
    "#### Disable auto scrolling of output"
   ]
  },
  {
   "cell_type": "code",
   "execution_count": 2,
   "id": "1375ec45",
   "metadata": {
    "ExecuteTime": {
     "end_time": "2021-04-29T15:39:56.878885Z",
     "start_time": "2021-04-29T15:39:56.873052Z"
    }
   },
   "outputs": [
    {
     "data": {
      "application/javascript": [
       "IPython.OutputArea.prototype._should_scroll = function(lines) {\n",
       "    return false;\n",
       "}\n"
      ],
      "text/plain": [
       "<IPython.core.display.Javascript object>"
      ]
     },
     "metadata": {},
     "output_type": "display_data"
    }
   ],
   "source": [
    "%%javascript\n",
    "IPython.OutputArea.prototype._should_scroll = function(lines) {\n",
    "    return false;\n",
    "}"
   ]
  },
  {
   "cell_type": "markdown",
   "id": "cd62f963",
   "metadata": {},
   "source": [
    "# Global Settings"
   ]
  },
  {
   "cell_type": "code",
   "execution_count": 3,
   "id": "4d309b59",
   "metadata": {
    "ExecuteTime": {
     "end_time": "2021-04-29T15:39:57.376439Z",
     "start_time": "2021-04-29T15:39:57.372915Z"
    }
   },
   "outputs": [],
   "source": [
    "# Set low mass limits for clouds\n",
    "lowLim512  = 8.  # Still tbd\n",
    "lowLim1024 = 4.  # Still tbd\n",
    "lowLim2048 = 1.\n",
    "\n",
    "# Choose which columns we're interested in, i.e. which 'features' we want to investigate\n",
    "pairPlotColumns = ['logVolume',  \n",
    "                   'logMass', \n",
    "                   'logDensity', \n",
    "                   'rPosition', \n",
    "                   'zPositionAbs', \n",
    "                   'polarAngle', \n",
    "                   'vMag', \n",
    "                   'noiseTime']\n",
    "\n",
    "# Set labels\n",
    "labels = [r'Volume' + '\\n' + r'($\\log{\\left(pc^3\\right)}$)',\n",
    "          r'Mass' + '\\n' + r'($\\log{\\left(M_\\odot\\right)}$)',\n",
    "          r'Density' + '\\n' + r'($\\log{\\left(M_\\odot/pc^3\\right)}$)',\n",
    "          r'Radial Position' + '\\n' + r'($pc$)',\n",
    "          r'Absolute Z Position' + '\\n' + r'($pc$)',\n",
    "          r'Polar Angle' + '\\n' + r'(radians)',\n",
    "          r'Velocity Magnitude' + '\\n' + r'($km/s$)',\n",
    "          r'Time' + '\\n' + r'($Myr$)',]\n",
    "\n",
    "# Testing\n",
    "testing = False  # If true plot only the different styles of plots. If false only plot the 3 different resolutions in the chosen style"
   ]
  },
  {
   "cell_type": "markdown",
   "id": "75c18dfb",
   "metadata": {},
   "source": [
    "# Import and setup Dataframes"
   ]
  },
  {
   "cell_type": "code",
   "execution_count": 4,
   "id": "2c8a99dc",
   "metadata": {
    "ExecuteTime": {
     "end_time": "2021-04-29T15:39:58.119803Z",
     "start_time": "2021-04-29T15:39:58.078842Z"
    }
   },
   "outputs": [],
   "source": [
    "# Load the datasets and print headers\n",
    "catalog512 = np.load('../data/physCatalog512.npy')\n",
    "catalog1024 = np.load('../data/physCatalog1024.npy')\n",
    "catalog2048 = np.load('../data/physCatalog2048.npy')"
   ]
  },
  {
   "cell_type": "code",
   "execution_count": 5,
   "id": "7e6d92fa",
   "metadata": {
    "ExecuteTime": {
     "end_time": "2021-04-29T15:39:59.882203Z",
     "start_time": "2021-04-29T15:39:59.569029Z"
    }
   },
   "outputs": [],
   "source": [
    "# Convert to dataframes with mass, volume, radial distance, and magnitude of velocity\n",
    "\n",
    "# ==============================================================================\n",
    "def converter(catalog, lowLim):\n",
    "    # Copy data to the dataFrame\n",
    "    outputDF = pd.DataFrame()\n",
    "    \n",
    "    outputDF['ID']         = catalog['ID']\n",
    "    outputDF['volume']     = catalog['volume']\n",
    "    outputDF['mass']       = catalog['mass']\n",
    "    outputDF['density']    = outputDF['mass'] / outputDF['volume']\n",
    "    outputDF['logVolume']  = np.log10(outputDF['volume']) \n",
    "    outputDF['logMass']    = np.log10(outputDF['mass'])\n",
    "    outputDF['logDensity'] = np.log10(outputDF['density'])\n",
    "    outputDF['rPosition']  = np.sqrt(catalog['positionX']**2 \n",
    "                                     + catalog['positionY']**2 \n",
    "                                     + catalog['positionZ']**2)\n",
    "    outputDF['zPosition']    = catalog['positionZ'].reshape(-1, 1)\n",
    "    outputDF['zPositionAbs'] = np.abs(outputDF['zPosition'])\n",
    "    outputDF['vMag']         = np.sqrt(catalog['velocityX']**2 \n",
    "                                     + catalog['velocityY']**2 \n",
    "                                     + catalog['velocityZ']**2)\n",
    "    outputDF['polarAngle'] = np.arccos(np.abs(outputDF['zPosition'])/outputDF['rPosition'])\n",
    "    outputDF['resolution'] = catalog['resolution']\n",
    "    outputDF['time']       = catalog['time']\n",
    "    outputDF['noiseTime']  = outputDF['time'] + np.random.uniform(low  = -0.5, \n",
    "                                                                  high =  0.5, \n",
    "                                                                  size = outputDF['time'].shape[0])\n",
    "    \n",
    "    # Cut out the low mass clouds that are poorly sampled\n",
    "    catalog = catalog[catalog['mass'] > lowLim]\n",
    "\n",
    "    return outputDF\n",
    "# ==============================================================================\n",
    "\n",
    "processed512  = converter(catalog512,  lowLim512)\n",
    "processed1024 = converter(catalog1024, lowLim1024)\n",
    "processed2048 = converter(catalog2048, lowLim2048)"
   ]
  },
  {
   "cell_type": "markdown",
   "id": "06d53c92",
   "metadata": {
    "scrolled": false
   },
   "source": [
    "# Start Plotting "
   ]
  },
  {
   "cell_type": "markdown",
   "id": "f208bfa2",
   "metadata": {
    "scrolled": false
   },
   "source": [
    "## Different plot styles"
   ]
  },
  {
   "cell_type": "markdown",
   "id": "d8b55eaa",
   "metadata": {},
   "source": [
    "### Scatter/Histogram\n",
    "\n",
    "Works ok, it's hard to see contours though"
   ]
  },
  {
   "cell_type": "code",
   "execution_count": 6,
   "id": "52f3325d",
   "metadata": {
    "ExecuteTime": {
     "end_time": "2021-04-26T19:15:45.358566Z",
     "start_time": "2021-04-26T19:15:45.355480Z"
    },
    "scrolled": false
   },
   "outputs": [],
   "source": [
    "if testing:\n",
    "    # Setup the plot and return the plot object\n",
    "    figGrid = sns.pairplot(processed512[pairPlotColumns].sample(1000),\n",
    "                           kind      = 'scatter',\n",
    "                           diag_kind = 'hist',\n",
    "                           corner    = True,\n",
    "                           hue       = 'time',\n",
    "                           palette   = 'flare',\n",
    "                           plot_kws  ={'alpha': 0.2})\n",
    "\n",
    "    plt.show()"
   ]
  },
  {
   "cell_type": "markdown",
   "id": "04f43953",
   "metadata": {},
   "source": [
    "### KDE/KDE\n",
    "\n",
    "Probably the best option. Clear contours"
   ]
  },
  {
   "cell_type": "code",
   "execution_count": 7,
   "id": "8e7cd4cf",
   "metadata": {
    "ExecuteTime": {
     "end_time": "2021-04-26T19:15:45.363231Z",
     "start_time": "2021-04-26T19:15:45.360519Z"
    },
    "scrolled": false
   },
   "outputs": [],
   "source": [
    "if testing:\n",
    "    # Setup the plot and return the plot object\n",
    "    figGrid = sns.pairplot(processed512[pairPlotColumns].sample(1000),\n",
    "                           kind   = 'kde',\n",
    "                           corner = True)\n",
    "\n",
    "    plt.show()"
   ]
  },
  {
   "cell_type": "markdown",
   "id": "6cd30991",
   "metadata": {
    "scrolled": false
   },
   "source": [
    "### Univariate Histogram/Histogram\n",
    "\n",
    "Better than the scatter plots but still hard to see the contours"
   ]
  },
  {
   "cell_type": "code",
   "execution_count": 8,
   "id": "e97ef4ce",
   "metadata": {
    "ExecuteTime": {
     "end_time": "2021-04-26T19:15:45.370064Z",
     "start_time": "2021-04-26T19:15:45.366721Z"
    },
    "scrolled": false
   },
   "outputs": [],
   "source": [
    "if testing:\n",
    "    # Setup the plot and return the plot object\n",
    "    figGrid = sns.pairplot(processed512[pairPlotColumns].sample(1000),\n",
    "                           kind      = 'hist',\n",
    "                           diag_kind = 'hist',\n",
    "                           corner    = True,\n",
    "                           hue       = 'time',\n",
    "                           palette   = 'flare')\n",
    "\n",
    "    plt.show()"
   ]
  },
  {
   "cell_type": "markdown",
   "id": "6f8013fa",
   "metadata": {
    "scrolled": false
   },
   "source": [
    "# Plotting"
   ]
  },
  {
   "cell_type": "code",
   "execution_count": 9,
   "id": "e0121b8b",
   "metadata": {
    "ExecuteTime": {
     "end_time": "2021-04-29T15:41:06.504714Z",
     "start_time": "2021-04-29T15:41:06.500241Z"
    }
   },
   "outputs": [],
   "source": [
    "def pairPlotter(catalog):\n",
    "    # Set the plot kind\n",
    "#     plotKind = 'hist'\n",
    "    plotKind = 'kde'\n",
    "    \n",
    "    # Find resolution\n",
    "    resolution = catalog['resolution'].iloc[0]\n",
    "    \n",
    "    # Set palette\n",
    "    sns.set_palette('crest')\n",
    "    \n",
    "    # Setup the plot and return the plot object\n",
    "    figGrid = sns.pairplot(catalog[pairPlotColumns],\n",
    "                           kind   = plotKind,\n",
    "                           corner = True)\n",
    "\n",
    "    # Set the labels\n",
    "    a = figGrid.axes.shape[0]\n",
    "    for i in range(a):\n",
    "        figGrid.axes[a-1,i].xaxis.set_label_text(labels[i], fontsize=15)\n",
    "        figGrid.axes[i,  0].yaxis.set_label_text(labels[i], fontsize=15)\n",
    "\n",
    "    # Title\n",
    "    figGrid.fig.suptitle(f'Features Pairplot for the {resolution} Resolution Dataset', fontsize=30)\n",
    "    \n",
    "    # Make sure there's enough room for the axis titles etc\n",
    "    plt.tight_layout()\n",
    "\n",
    "    # Save the plot\n",
    "    plt.savefig(f\"/users/bob/desktop/{resolution}-{plotKind}.png\")"
   ]
  },
  {
   "cell_type": "code",
   "execution_count": 10,
   "id": "8fa83d30",
   "metadata": {
    "ExecuteTime": {
     "end_time": "2021-04-29T18:44:05.300734Z",
     "start_time": "2021-04-29T15:41:07.062130Z"
    }
   },
   "outputs": [],
   "source": [
    "# Make all the plots in parallel\n",
    "if not testing:\n",
    "    catalogs = [processed512, processed1024, processed2048]\n",
    "    Parallel(n_jobs=len(catalogs))(delayed(pairPlotter)\n",
    "                                  (catalog)\n",
    "                                  for catalog in catalogs)"
   ]
  },
  {
   "cell_type": "code",
   "execution_count": null,
   "id": "6683b32b",
   "metadata": {},
   "outputs": [],
   "source": []
  }
 ],
 "metadata": {
  "kernelspec": {
   "display_name": "Python 3",
   "language": "python",
   "name": "python3"
  },
  "language_info": {
   "codemirror_mode": {
    "name": "ipython",
    "version": 3
   },
   "file_extension": ".py",
   "mimetype": "text/x-python",
   "name": "python",
   "nbconvert_exporter": "python",
   "pygments_lexer": "ipython3",
   "version": "3.8.8"
  }
 },
 "nbformat": 4,
 "nbformat_minor": 5
}
